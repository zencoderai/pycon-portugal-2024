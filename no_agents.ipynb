{
 "cells": [
  {
   "cell_type": "code",
   "execution_count": null,
   "id": "b889cf2e-5f22-4178-9fdd-175ee8d74c66",
   "metadata": {},
   "outputs": [],
   "source": [
    "import os\n",
    "\n",
    "from openai import OpenAI\n",
    "\n",
    "\n",
    "openai_client = OpenAI(api_key=os.getenv(\"OPENAI_API_KEY\"))"
   ]
  },
  {
   "cell_type": "code",
   "execution_count": null,
   "id": "c2c8b615-10d9-4699-860f-63af779af31c",
   "metadata": {},
   "outputs": [],
   "source": [
    "def query_model(messages, model=\"gpt-4-turbo\"):\n",
    "    response = openai_client.chat.completions.create(\n",
    "        model=model,\n",
    "        messages=messages\n",
    "    )\n",
    "    return response.choices[0].message.content"
   ]
  },
  {
   "cell_type": "code",
   "execution_count": null,
   "id": "4d27c972-8612-400c-a3f8-52e12f5a5be8",
   "metadata": {},
   "outputs": [],
   "source": [
    "response_time_message = [\n",
    "    {\"role\": \"user\", \"content\": \"What's the response time for google.com?\"},\n",
    "    {\"role\": \"system\", \"content\": \"\"}\n",
    "]\n",
    "query_model(response_time_message)"
   ]
  },
  {
   "cell_type": "code",
   "execution_count": null,
   "id": "98f84248-06bf-40b1-a1fe-2956e3f9dde0",
   "metadata": {},
   "outputs": [],
   "source": [
    "packages_message = [\n",
    "    {\"role\": \"user\", \"content\": \"What python packages do I have installed?\"},\n",
    "    {\"role\": \"system\", \"content\": \"\"}\n",
    "]\n",
    "query_model(packages_message)"
   ]
  },
  {
   "cell_type": "code",
   "execution_count": null,
   "id": "70f2415d-881e-4190-b860-21a85acafc69",
   "metadata": {},
   "outputs": [],
   "source": [
    "python_message = [\n",
    "    {\"role\": \"user\", \"content\": \"What's new in python 3.14?\"},\n",
    "    {\"role\": \"system\", \"content\": \"\"}\n",
    "]\n",
    "query_model(python_message)"
   ]
  },
  {
   "cell_type": "code",
   "execution_count": null,
   "id": "a2afadea-1435-4270-af02-abf1aefdc6f8",
   "metadata": {},
   "outputs": [],
   "source": [
    "pycon_message = [\n",
    "    {\"role\": \"user\", \"content\": \"Who are the speakers at PyCon Portugal 2024?\"},\n",
    "    {\"role\": \"system\", \"content\": \"\"}\n",
    "]\n",
    "query_model(pycon_message)"
   ]
  },
  {
   "cell_type": "code",
   "execution_count": null,
   "id": "4c786979-f96f-42f2-b074-f88e4b118656",
   "metadata": {},
   "outputs": [],
   "source": []
  }
 ],
 "metadata": {
  "kernelspec": {
   "display_name": "Python 3 (ipykernel)",
   "language": "python",
   "name": "python3"
  },
  "language_info": {
   "codemirror_mode": {
    "name": "ipython",
    "version": 3
   },
   "file_extension": ".py",
   "mimetype": "text/x-python",
   "name": "python",
   "nbconvert_exporter": "python",
   "pygments_lexer": "ipython3",
   "version": "3.12.6"
  }
 },
 "nbformat": 4,
 "nbformat_minor": 5
}
