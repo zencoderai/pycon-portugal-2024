{
 "cells": [
  {
   "cell_type": "code",
   "execution_count": null,
   "id": "0268042a-03fd-4959-8d9d-66cc472d0513",
   "metadata": {},
   "outputs": [],
   "source": [
    "import os\n",
    "import subprocess as sp\n",
    "import re\n",
    "import requests\n",
    "\n",
    "import googlesearch as gs\n",
    "from bs4 import BeautifulSoup\n",
    "from openai import OpenAI\n",
    "\n",
    "\n",
    "openai_client = OpenAI(api_key=os.getenv(\"OPENAI_API_KEY\"))"
   ]
  },
  {
   "cell_type": "markdown",
   "id": "af9eb712-a7c1-4f27-bb6e-2c1fa71ebdff",
   "metadata": {},
   "source": [
    "# ReAct (Reason + Act) Framework (Yao et al, 2022)\n",
    "- Thought\n",
    "- Action\n",
    "- Pause\n",
    "- Observation\n",
    "- Answer"
   ]
  },
  {
   "cell_type": "code",
   "execution_count": null,
   "id": "95c17f12-1042-4178-a094-fa0cdd97c8f9",
   "metadata": {},
   "outputs": [],
   "source": [
    "system_prompt = \"\"\"\n",
    "You run in a loop of Thought, Action, Pause, Observation.\n",
    "At the end of the loop you output an Answer.\n",
    "Use Thought to describe your thoughts about the question you have been asked.\n",
    "Use Action to run one of the actions available to you - then return Pause.\n",
    "Observation will be the result of running those actions.\n",
    "\n",
    "Your available actions are:\n",
    "ping:\n",
    "e.g. ping: python.org\n",
    "Does a ping command and return the response time in seconds\n",
    "\n",
    "bash:\n",
    "e.g. bash: python --version\n",
    "Returns the result of bash command execution\n",
    "\n",
    "web_search:\n",
    "e.g. web_search: capital of Portugal\n",
    "Returns the content of the first result of a google search\n",
    "\n",
    "Example session:\n",
    "Question: How many islands make up Madeira?\n",
    "Thought: I should do a web search for the Madeira\n",
    "Action: web_search: Madeira\n",
    "Pause\n",
    "\n",
    "You will be called again with this:\n",
    "Observation: Madeira is a Portuguese island chain made up of four islands: Madeira, Porto Santo, Desertas, and Selvagens, only two of which are inhabited (Madeira and Porto Santo.) \n",
    "\n",
    "You then output:\n",
    "Answer: Four islands\n",
    "\"\"\""
   ]
  },
  {
   "cell_type": "code",
   "execution_count": null,
   "id": "b4cb1664-10f6-4f23-a869-3dfba8905611",
   "metadata": {},
   "outputs": [],
   "source": [
    "def query_model(messages, model=\"gpt-4-turbo\"):\n",
    "    response = openai_client.chat.completions.create(\n",
    "        model=model,\n",
    "        messages=messages\n",
    "    )\n",
    "    return response.choices[0].message.content"
   ]
  },
  {
   "cell_type": "code",
   "execution_count": null,
   "id": "b67f6a90-28db-4a3e-99ec-45f455805133",
   "metadata": {},
   "outputs": [],
   "source": [
    "def ping(website: str):\n",
    "    if not website.startswith(\"https://\"):\n",
    "        website = \"https://\" + website\n",
    "    response = requests.get(website)\n",
    "    return response.elapsed.total_seconds()\n",
    "\n",
    "\n",
    "def bash(command: str):\n",
    "    out = sp.check_output(command, shell=True)\n",
    "    return out.decode(\"utf-8\").rstrip()\n",
    "\n",
    "\n",
    "def web_search(query: str):\n",
    "    top_result = next(gs.search(query, advanced=True))\n",
    "    print(\"Using data from: \", top_result.url)\n",
    "    content = requests.get(top_result.url)\n",
    "    return re.sub(\" {2,}\", \"\", BeautifulSoup(content.text, \"lxml\").text.replace(\"\\n\", \"\").replace(\"\\r\", \"\"))"
   ]
  },
  {
   "cell_type": "code",
   "execution_count": null,
   "id": "3d9c5cff-777d-4edd-8ddd-b26b0472de5a",
   "metadata": {},
   "outputs": [],
   "source": [
    "ping(\"2024.pycon.pt\")"
   ]
  },
  {
   "cell_type": "code",
   "execution_count": null,
   "id": "b148f3c2-5906-46c6-92d7-3787ea84892f",
   "metadata": {},
   "outputs": [],
   "source": [
    "bash(\"python --version\")"
   ]
  },
  {
   "cell_type": "code",
   "execution_count": null,
   "id": "621a8cb5-b80f-4bd8-9dda-c8e1b1d8507a",
   "metadata": {
    "scrolled": true
   },
   "outputs": [],
   "source": [
    "web_search(\"How many islands make up Madeira?\")"
   ]
  },
  {
   "cell_type": "code",
   "execution_count": null,
   "id": "e81fc9b9-0586-4b15-8ab8-39bbc16071f5",
   "metadata": {},
   "outputs": [],
   "source": [
    "known_actions = {\n",
    "    \"ping\": ping,\n",
    "    \"bash\": bash,\n",
    "    \"web_search\": web_search\n",
    "}"
   ]
  },
  {
   "cell_type": "code",
   "execution_count": null,
   "id": "881ea938-a903-437a-91c4-4d5a1c98e719",
   "metadata": {},
   "outputs": [],
   "source": [
    "def query(user_query: str, max_iter: int = 5):\n",
    "    messages = [\n",
    "        {\"role\": \"system\", \"content\": system_prompt},\n",
    "        {\"role\": \"user\", \"content\": user_prompt},\n",
    "    ]\n",
    "    counter = 1\n",
    "    while counter < max_iter:\n",
    "        print(f\"Loop: {counter}\")\n",
    "        response = query_model(messages)\n",
    "        print(response)\n",
    "        actions = [re.match(r\"^Action: (\\w+): (.*)\", a) for a in response.split('\\n') if re.match(r\"^Action: (\\w+): (.*)\", a)]\n",
    "        if actions:\n",
    "            action, action_input = actions[0].groups()\n",
    "            print(\"Running {} {}\".format(action, action_input))\n",
    "            observation = known_actions[action](action_input)\n",
    "            print(\"Observation:\", observation)\n",
    "            next_prompt = f\"Observation: {observation}\"\n",
    "            messages.append({\"role\": \"user\", \"content\": next_prompt})\n",
    "        else:\n",
    "             break\n",
    "        counter += 1"
   ]
  },
  {
   "cell_type": "code",
   "execution_count": null,
   "id": "39895aff-2c3c-4673-8c7c-cc3e29533ce4",
   "metadata": {},
   "outputs": [],
   "source": [
    "user_prompt = \"What's the response time for google.com?\"\n",
    "query(user_prompt)"
   ]
  },
  {
   "cell_type": "code",
   "execution_count": null,
   "id": "6b0928f4-d87a-4131-b8bd-c00825bc3bd4",
   "metadata": {},
   "outputs": [],
   "source": [
    "user_prompt = \"What python packages do I have installed?\"\n",
    "query(user_prompt)"
   ]
  },
  {
   "cell_type": "code",
   "execution_count": null,
   "id": "9a270468-42ee-435a-ae3e-60840f8b45ca",
   "metadata": {},
   "outputs": [],
   "source": [
    "user_prompt = \"What's new in python 3.14?\"\n",
    "query(user_prompt)"
   ]
  },
  {
   "cell_type": "code",
   "execution_count": null,
   "id": "b2d53a41-f8ae-48a9-b9f7-97df035b3c37",
   "metadata": {},
   "outputs": [],
   "source": [
    "user_prompt = \"Who are the speakers at PyCon Portugal 2024?\"\n",
    "query(user_prompt)"
   ]
  },
  {
   "cell_type": "code",
   "execution_count": null,
   "id": "1b8fa2a5-eb23-4482-bcdb-f927dbe4dd82",
   "metadata": {},
   "outputs": [],
   "source": []
  }
 ],
 "metadata": {
  "kernelspec": {
   "display_name": "Python 3 (ipykernel)",
   "language": "python",
   "name": "python3"
  },
  "language_info": {
   "codemirror_mode": {
    "name": "ipython",
    "version": 3
   },
   "file_extension": ".py",
   "mimetype": "text/x-python",
   "name": "python",
   "nbconvert_exporter": "python",
   "pygments_lexer": "ipython3",
   "version": "3.12.6"
  }
 },
 "nbformat": 4,
 "nbformat_minor": 5
}
